{
 "cells": [
  {
   "cell_type": "code",
   "execution_count": 1,
   "id": "e204113a",
   "metadata": {},
   "outputs": [],
   "source": [
    "import cv2 as cv"
   ]
  },
  {
   "cell_type": "code",
   "execution_count": 2,
   "id": "37b16ffc",
   "metadata": {},
   "outputs": [
    {
     "data": {
      "text/plain": [
       "100"
      ]
     },
     "execution_count": 2,
     "metadata": {},
     "output_type": "execute_result"
    }
   ],
   "source": [
    "#below code to read image\n",
    "img = cv.imread('images/1.jpg')\n",
    "cv.imshow('image', img)\n",
    "\n",
    "#press any key to exit image\n",
    "cv.waitKey(0)"
   ]
  },
  {
   "cell_type": "code",
   "execution_count": 3,
   "id": "f372f719",
   "metadata": {},
   "outputs": [
    {
     "data": {
      "text/plain": [
       "-1"
      ]
     },
     "execution_count": 3,
     "metadata": {},
     "output_type": "execute_result"
    }
   ],
   "source": [
    "#below code to read video\n",
    "video = cv.VideoCapture('videos/dog.mp4')\n",
    "\n",
    "# read frame by frame\n",
    "while True:\n",
    "    isTrue, frame = video.read()\n",
    "    cv.imshow('video', frame)\n",
    "    \n",
    "    if cv.waitKey(20) & 0xFF==ord('d'):\n",
    "        break\n",
    "\n",
    "video.release()\n",
    "cv.destroyAllWindows()\n",
    "\n",
    "cv.waitKey(0)"
   ]
  },
  {
   "cell_type": "markdown",
   "id": "f33f394d",
   "metadata": {},
   "source": [
    "# rescale"
   ]
  },
  {
   "cell_type": "code",
   "execution_count": 4,
   "id": "21e429b2",
   "metadata": {},
   "outputs": [],
   "source": [
    "def rescaleFrame(frame, scale=0.75):\n",
    "    height = int(frame.shape[0]*scale)\n",
    "    width = int(frame.shape[1]*scale)\n",
    "    \n",
    "    dimensions = (width, height)\n",
    "    \n",
    "    return cv.resize(frame, dimensions, interpolation=cv.INTER_AREA)"
   ]
  },
  {
   "cell_type": "code",
   "execution_count": 5,
   "id": "214140da",
   "metadata": {},
   "outputs": [],
   "source": [
    "video = cv.VideoCapture('videos/dog.mp4')\n",
    "\n",
    "# read frame by frame\n",
    "while True:\n",
    "    isTrue, frame = video.read()\n",
    "    resized_frame = rescaleFrame(frame, 0.2)\n",
    "    cv.imshow('video_resized', resized_frame)\n",
    "    \n",
    "    if cv.waitKey(20) & 0xFF==ord('d'):\n",
    "        break\n",
    "\n",
    "video.release()\n",
    "cv.destroyAllWindows()"
   ]
  },
  {
   "cell_type": "markdown",
   "id": "125ce656",
   "metadata": {},
   "source": [
    "## add shapes in image"
   ]
  },
  {
   "cell_type": "code",
   "execution_count": 2,
   "id": "6b3cb1cb",
   "metadata": {},
   "outputs": [],
   "source": [
    "import cv2 as cv\n",
    "import numpy as np\n",
    "import time\n",
    "\n",
    "blank = np.zeros((500,500,3), dtype='uint8')\n",
    "\n",
    "#blank image\n",
    "cv.imshow('blank',blank)\n",
    "\n",
    "#greean image\n",
    "blank[:] = 0,255,0\n",
    "# cv.imshow('green',blank)\n",
    "\n",
    "#green patch\n",
    "blank[0:500, 100:400] = 0,255,0\n",
    "# cv.imshow('green_patch',blank)\n",
    "\n",
    "#draw rectangle\n",
    "# cv.line(blank, (0,100), (100,0), (0,255,0), thickness=2)\n",
    "# cv.rectangle(blank, (0,0), (100,200), (0,255,0), thickness=2)\n",
    "# cv.rectangle(blank, (0,0), (200,200), (0,0,255), thickness=cv.FILLED) #thickness=-1\n",
    "\n",
    "#Microsoft logo\n",
    "cv.imshow('result',blank)\n",
    "cv.waitKey(1000)\n",
    "cv.rectangle(blank, (0,0), (250,250), (34,80,242), thickness=cv.FILLED)\n",
    "cv.rectangle(blank, (250,0), (500,250), (239,164,0), thickness=cv.FILLED)\n",
    "cv.rectangle(blank, (250,250), (500,500), (0,185,255), thickness=cv.FILLED)\n",
    "cv.rectangle(blank, (0,250), (250,500), (0,186,127), thickness=cv.FILLED)\n",
    "cv.imshow('result',blank)\n",
    "cv.waitKey(1000)\n",
    "cv.line(blank, (0,250), (500,250), (255,255,255), thickness=2)\n",
    "cv.line(blank, (250,0), (250,500), (255,255,255), thickness=2)\n",
    "cv.imshow('result',blank)\n",
    "cv.waitKey(1000)\n",
    "cv.putText(blank, 'Microsoft', (110,265), cv.FONT_HERSHEY_TRIPLEX, 2.0, (115,115,115), 2)\n",
    "\n",
    "cv.imshow('result',blank)\n",
    "\n",
    "cv.waitKey(0)\n",
    "cv.destroyAllWindows()"
   ]
  },
  {
   "cell_type": "markdown",
   "id": "4f270dcf",
   "metadata": {},
   "source": [
    "### useful functions"
   ]
  },
  {
   "cell_type": "code",
   "execution_count": 10,
   "id": "f69606ad",
   "metadata": {},
   "outputs": [],
   "source": [
    "import cv2 as cv\n",
    "img = cv.imread('images/1.jpg')\n",
    "cv.imshow('original', img)\n",
    "\n",
    "#convert to grayscale\n",
    "gray = cv.cvtColor(img, cv.COLOR_BGR2GRAY)\n",
    "cv.imshow('gray', gray)\n",
    "\n",
    "#blur\n",
    "blur = cv.GaussianBlur(img, (3,3), cv.BORDER_DEFAULT)\n",
    "moreblur = cv.GaussianBlur(img, (7,7), cv.BORDER_DEFAULT)\n",
    "cv.imshow('blur', blur)\n",
    "cv.imshow('moreblur', moreblur)\n",
    "\n",
    "#edge cascade\n",
    "canny = cv.Canny(img, 125, 175)\n",
    "cv.imshow('edge detection', canny)\n",
    "#to reduce edges blur and the do edge cascade\n",
    "\n",
    "#dilating the image\n",
    "dilated = cv.dilate(canny, (3,3), iterations=2)\n",
    "cv.imshow('dilated', dilated)\n",
    "\n",
    "#erode back dilated image\n",
    "eroded = cv.erode(dilated, (3,3), iterations=2)\n",
    "cv.imshow('eroded', eroded)\n",
    "\n",
    "#resize\n",
    "resized = cv.resize(img, (500,400), interpolation=cv.INTER_AREA)\n",
    "cv.imshow('resized', resized)\n",
    "\n",
    "#crop\n",
    "cropped = img[0:500, 200:600]\n",
    "cv.imshow('cropped', cropped)\n",
    "\n",
    "cv.waitKey(0)\n",
    "cv.destroyAllWindows()"
   ]
  },
  {
   "cell_type": "code",
   "execution_count": null,
   "id": "49f2bb26",
   "metadata": {},
   "outputs": [],
   "source": []
  }
 ],
 "metadata": {
  "kernelspec": {
   "display_name": "Python 3 (ipykernel)",
   "language": "python",
   "name": "python3"
  },
  "language_info": {
   "codemirror_mode": {
    "name": "ipython",
    "version": 3
   },
   "file_extension": ".py",
   "mimetype": "text/x-python",
   "name": "python",
   "nbconvert_exporter": "python",
   "pygments_lexer": "ipython3",
   "version": "3.10.5"
  }
 },
 "nbformat": 4,
 "nbformat_minor": 5
}
